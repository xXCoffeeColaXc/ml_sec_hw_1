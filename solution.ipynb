{
 "cells": [
  {
   "cell_type": "code",
   "execution_count": 1,
   "metadata": {},
   "outputs": [],
   "source": [
    "import os\n",
    "import torch\n",
    "import torch.nn as nn\n",
    "import matplotlib.pyplot as plt\n",
    "import numpy as np\n",
    "from torch.utils.data import DataLoader, Dataset"
   ]
  },
  {
   "cell_type": "code",
   "execution_count": 2,
   "metadata": {},
   "outputs": [],
   "source": [
    "data_folder = 'ml_sec_hw_data/data'"
   ]
  },
  {
   "cell_type": "code",
   "execution_count": 30,
   "metadata": {},
   "outputs": [],
   "source": [
    "def test_binary_loader(bytes, s):\n",
    "    l = len(bytes)\n",
    "    print(\"bytes length: \", l)\n",
    "\n",
    "    if l == s:\n",
    "        # Ha a fájl mérete pontosan s\n",
    "        x = bytes\n",
    "    elif l < s:\n",
    "        # Ha a fájl mérete kisebb mint s, hozzáadunk nullás paddingot\n",
    "        x = np.pad(bytes, (0, s - l), 'constant', constant_values=(0,))\n",
    "    else:\n",
    "        # Ha a fájl mérete nagyobb mint s, átlagoljuk a bájtokat\n",
    "        group_size = np.ceil(l / s) # csoportok számának kiszámítása\n",
    "        print(\"group size: \", group_size)\n",
    "        # Először hozzáadunk szükséges paddingot\n",
    "        padding_length = s * group_size - l \n",
    "        print(\"padding length: \", padding_length)\n",
    "        padded_bytes = np.pad(bytes, (0, int(padding_length)), 'constant', constant_values=(0,))\n",
    "        print(\"padding bytes: \", padded_bytes)\n",
    "        # Átlagolás\n",
    "        reshaped_bytes = padded_bytes.reshape(-1, int(group_size))\n",
    "        print(\"reshaped bytes: \\n\", reshaped_bytes)\n",
    "        x = np.mean(reshaped_bytes, axis=1)\n",
    "\n",
    "    return x"
   ]
  },
  {
   "cell_type": "code",
   "execution_count": 28,
   "metadata": {},
   "outputs": [
    {
     "name": "stdout",
     "output_type": "stream",
     "text": [
      "group size:  2.0\n",
      "padding length:  2.0\n",
      "padding bytes:  [1 2 3 4 0 0]\n",
      "reshaped bytes:  [[1 2]\n",
      " [3 4]\n",
      " [0 0]]\n",
      "(3,)\n",
      "[1.5 3.5 0. ]\n"
     ]
    }
   ],
   "source": [
    "x = test_binary_loader([1,2,3,4], 3)\n",
    "print(x.shape)\n",
    "print(x)"
   ]
  },
  {
   "cell_type": "code",
   "execution_count": 5,
   "metadata": {},
   "outputs": [
    {
     "name": "stdout",
     "output_type": "stream",
     "text": [
      "tensor([1.5000, 3.5000, 0.0000], dtype=torch.float64)\n",
      "torch.Size([1, 3])\n"
     ]
    }
   ],
   "source": [
    "tensor_x = torch.tensor(x)\n",
    "print(tensor_x)\n",
    "\n",
    "tensor_x = tensor_x.unsqueeze(0)\n",
    "print(tensor_x.shape)"
   ]
  },
  {
   "cell_type": "code",
   "execution_count": 6,
   "metadata": {},
   "outputs": [],
   "source": [
    "class MalwareDataset(Dataset):\n",
    "    def __init__(self, data_folder, s=2**14):\n",
    "        self.data_folder = data_folder\n",
    "        self.data = []\n",
    "        self.labels = []\n",
    "        for label in os.listdir(data_folder): # data/.../train -> malware, benign\n",
    "            for file in os.listdir(os.path.join(data_folder, label)):\n",
    "                file_path = os.path.join(data_folder, label, file)\n",
    "                x = self.preprocess_binary_file(file_path, s)\n",
    "                self.data.append(x)\n",
    "                self.labels.append(label)\n",
    "\n",
    "    def preprocess_binary_file(self, file_path, s):\n",
    "        # Bináris fájl beolvasása\n",
    "        with open(file_path, 'rb') as file:\n",
    "            file_bytes = np.fromfile(file, dtype=np.uint8)\n",
    "\n",
    "        l = len(file_bytes)\n",
    "\n",
    "        if l == s:\n",
    "            # Ha a fájl mérete pontosan s\n",
    "            x = file_bytes\n",
    "        elif l < s:\n",
    "            # Ha a fájl mérete kisebb mint s, hozzáadunk nullás paddingot\n",
    "            x = np.pad(file_bytes, (0, s - l), 'constant', constant_values=(0,))\n",
    "        else:\n",
    "            # Ha a fájl mérete nagyobb mint s, átlagoljuk a bájtokat\n",
    "            # Először hozzáadunk szükséges paddingot\n",
    "            padding_length = s * np.ceil(l / s) - l\n",
    "            padded_bytes = np.pad(file_bytes, (0, int(padding_length)), 'constant', constant_values=(0,))\n",
    "            # Átlagolás\n",
    "            x = np.mean(padded_bytes.reshape(-1, int(np.ceil(l / s))), axis=1)\n",
    "\n",
    "        # Normalizálás [0, 1] tartományba\n",
    "        x_normalized = x / 255\n",
    "\n",
    "        return x_normalized\n",
    "\n",
    "    def __len__(self):\n",
    "        return len(self.data)\n",
    "\n",
    "    def __getitem__(self, idx):\n",
    "        return torch.tensor(self.data[idx]), torch.tensor([1 if self.labels[idx] == 'malware' else 0])\n",
    "    \n",
    "def get_loader(data_folder, batch_size=32):\n",
    "    dataset = MalwareDataset(data_folder)\n",
    "    return DataLoader(dataset, batch_size=batch_size, shuffle=True)"
   ]
  },
  {
   "cell_type": "code",
   "execution_count": 7,
   "metadata": {},
   "outputs": [],
   "source": [
    "train_loader = get_loader(os.path.join(data_folder, 'train'), 32)\n",
    "test_loader = get_loader(os.path.join(data_folder, 'test'), 32)"
   ]
  },
  {
   "cell_type": "code",
   "execution_count": 8,
   "metadata": {},
   "outputs": [
    {
     "name": "stdout",
     "output_type": "stream",
     "text": [
      "torch.Size([32, 1, 16384])\n",
      "torch.Size([32, 1])\n"
     ]
    }
   ],
   "source": [
    "data, label = next(iter(train_loader))\n",
    "print(data.unsqueeze(1).float().shape)\n",
    "print(label.float().shape)"
   ]
  },
  {
   "cell_type": "code",
   "execution_count": 9,
   "metadata": {},
   "outputs": [],
   "source": [
    "class MalwareDetector(nn.Module):\n",
    "    def __init__(self) -> None:\n",
    "        super().__init__()\n",
    "        self.conv1 = nn.Sequential(\n",
    "            nn.Conv1d(1, 16, kernel_size=10, stride=1),\n",
    "            nn.ReLU(),\n",
    "            nn.MaxPool1d(kernel_size=4, stride=2, padding=0, dilation=1, ceil_mode=False),\n",
    "        )\n",
    "        self.linear = nn.Linear(in_features=130976, out_features=1, bias=True)\n",
    "        self.out = nn.Sigmoid()\n",
    "\n",
    "    def forward(self, x):\n",
    "        x = self.conv1(x)\n",
    "        x = x.view(x.size(0), -1) # Flatten\n",
    "        x = self.linear(x)\n",
    "        x = self.out(x)\n",
    "        return x"
   ]
  },
  {
   "cell_type": "code",
   "execution_count": 10,
   "metadata": {},
   "outputs": [
    {
     "name": "stdout",
     "output_type": "stream",
     "text": [
      "Epoch 1/10, Loss: 0.1271088421344757\n",
      "Epoch 2/10, Loss: 0.0075139193795621395\n",
      "Epoch 3/10, Loss: 0.004727795720100403\n",
      "Epoch 4/10, Loss: 0.005919822491705418\n",
      "Epoch 5/10, Loss: 0.028740501031279564\n",
      "Epoch 6/10, Loss: 0.002325571607798338\n",
      "Epoch 7/10, Loss: 0.0006117887678556144\n",
      "Epoch 8/10, Loss: 0.0008404992404393852\n",
      "Epoch 9/10, Loss: 0.0007017732714302838\n",
      "Epoch 10/10, Loss: 0.0009823349537327886\n"
     ]
    }
   ],
   "source": [
    "device = torch.device(\"cuda\" if torch.cuda.is_available() else \"cpu\")\n",
    "\n",
    "model = MalwareDetector().to(device)\n",
    "bce = nn.BCELoss()\n",
    "opt = torch.optim.Adam(model.parameters(), lr=0.001)\n",
    "model.to(device)\n",
    "\n",
    "def train(model, train_loader, opt, loss_fn, epochs=10):\n",
    "    for epoch in range(epochs):\n",
    "        for data, labels in train_loader:\n",
    "            data = data.to(device)\n",
    "            labels = labels.to(device)\n",
    "\n",
    "            opt.zero_grad()\n",
    "            out = model(data.unsqueeze(1).float())\n",
    "            loss = loss_fn(out, labels.float())\n",
    "            loss.backward()\n",
    "            opt.step()\n",
    "\n",
    "        print(f'Epoch {epoch+1}/{epochs}, Loss: {loss.item()}')\n",
    "\n",
    "train(model, train_loader, opt, bce, epochs=10)"
   ]
  },
  {
   "cell_type": "code",
   "execution_count": 11,
   "metadata": {},
   "outputs": [
    {
     "name": "stdout",
     "output_type": "stream",
     "text": [
      "Accuracy: 0.9974358974358974\n",
      "TPR: 0.9948717948717949\n",
      "TNR: 1.0\n",
      "FPR: 0.0\n",
      "FNR: 0.005128205128205128\n",
      "AUC: 0.9993951347797502\n"
     ]
    }
   ],
   "source": [
    "from sklearn.metrics import roc_auc_score, confusion_matrix\n",
    "\n",
    "def test_model(model, test_loader):\n",
    "    model.eval()  # Teszt módba állítjuk a modellt\n",
    "    predictions, true_labels = [], []\n",
    "    model.to('cpu')\n",
    "    with torch.no_grad():  # Gradiensek számításának kikapcsolása\n",
    "        for data, labels in test_loader:\n",
    "            \n",
    "            output = model(data.unsqueeze(1).float())  # Modell alkalmazása\n",
    "            pred_prob = output.squeeze().numpy()  # Valószínűségek kinyerése\n",
    "            predictions.extend(pred_prob)\n",
    "            true_labels.extend(labels.numpy())\n",
    "    \n",
    "    # Bináris osztályozási döntések (0.5 küszöbértékkel)\n",
    "    pred_labels = [1 if p >= 0.5 else 0 for p in predictions]\n",
    "    \n",
    "    # Metrikák kiszámítása\n",
    "    auc_score = roc_auc_score(true_labels, predictions)\n",
    "    tn, fp, fn, tp = confusion_matrix(true_labels, pred_labels).ravel()\n",
    "    \n",
    "    tpr = tp / (tp + fn)  # True Positive Rate\n",
    "    tnr = tn / (tn + fp)  # True Negative Rate\n",
    "    fpr = fp / (tn + fp)  # False Positive Rate\n",
    "    fnr = fn / (tp + fn)  # False Negative Rate\n",
    "    accuracy = (tp + tn) / (tp + tn + fp + fn)  # Átlagos pontosság\n",
    "    \n",
    "    print(f\"Accuracy: {accuracy}\")\n",
    "    print(f\"TPR: {tpr}\")\n",
    "    print(f\"TNR: {tnr}\")\n",
    "    print(f\"FPR: {fpr}\")\n",
    "    print(f\"FNR: {fnr}\")\n",
    "    print(f\"AUC: {auc_score}\")\n",
    "    \n",
    "    return accuracy, tpr, tnr, fpr, fnr, auc_score\n",
    "\n",
    "\n",
    "accuracy, tpr, tnr, fpr, fnr, auc = test_model(model, test_loader)"
   ]
  },
  {
   "cell_type": "markdown",
   "metadata": {},
   "source": [
    "### Kérdések:\n",
    "1. Mi a betanított modell átlagos pontossága a teszt adaton ha s = 2\n",
    "14? : 99.48%\n",
    "2. Mi a modell TPR, TNR, FPR, FNR, valamint AUC értéke a teszt adaton? Mi állapítható meg ezekből a modell\n",
    "teljesítményéről? : Magas pontosság, nagyon ritkán téveszt a detektorunk. Felismeri mind a malware-t mind a benign-t. Szinte nincs félreosztályzás\n"
   ]
  },
  {
   "cell_type": "code",
   "execution_count": 36,
   "metadata": {},
   "outputs": [
    {
     "name": "stdout",
     "output_type": "stream",
     "text": [
      "adv_bytes:  [1, 2, 3, 4, 5, 6, 7, 8, 9, 10, 0, 0, 0, 0, 0]\n",
      "group size:  3.0\n",
      "padding length:  3.0\n",
      "padding bytes:  [ 1  2  3  4  5  6  7  8  9 10  0  0  0  0  0  0  0  0]\n",
      "reshaped bytes: \n",
      " [[ 1  2  3]\n",
      " [ 4  5  6]\n",
      " [ 7  8  9]\n",
      " [10  0  0]\n",
      " [ 0  0  0]\n",
      " [ 0  0  0]]\n",
      "input:  [2.         5.         8.         3.33333333 0.         0.        ]\n"
     ]
    }
   ],
   "source": [
    "original_bytes = [1,2,3,4,5,6,7,8,9,10]\n",
    "adv_suffix = [0] * 5 # ha egy csoport csakis suffix-t tartalmaz akkor a tömörített verzióban is azok lesznek, azaz módosítani tudjuk őket.\n",
    "adv_bytes = original_bytes + adv_suffix\n",
    "print(\"adv_bytes: \", adv_bytes)\n",
    "x = test_binary_loader(adv_bytes, 6)\n",
    "print(\"input: \", x)"
   ]
  },
  {
   "cell_type": "code",
   "execution_count": 20,
   "metadata": {},
   "outputs": [
    {
     "name": "stdout",
     "output_type": "stream",
     "text": [
      "Binary length: 14, 's' value: 6, modifiable positions: set()\n",
      "Binary length: 15, 's' value: 6, modifiable positions: set()\n"
     ]
    }
   ],
   "source": [
    "def determine_modifiable_positions(bytes, s):\n",
    "    l = len(bytes)\n",
    "    modifiable_positions = set()\n",
    "\n",
    "    if l >= s:\n",
    "        # Számítjuk, hány bájt kerül átlagolásra egy vektor elem létrehozásához\n",
    "        group_size = int(np.ceil(l / s))\n",
    "        \n",
    "        # Meghatározzuk, hány bájt kerül hozzáadásra paddingként\n",
    "        padding_length = s * group_size - l\n",
    "        \n",
    "        # Meghatározzuk az adversarial suffix hosszát\n",
    "        suffix_length = l - (l // group_size) * group_size\n",
    "        \n",
    "        # Ha a suffix hossza nagyobb, mint a szükséges padding hossza, az utolsó csoportba eső bájtok módosíthatók\n",
    "        if suffix_length > padding_length:\n",
    "            modifiable_positions.add(s - 1)  # Az utolsó vektor pozíció módosítható\n",
    "    \n",
    "    return modifiable_positions\n",
    "\n",
    "# Tesztesetek a függvény ellenőrzésére\n",
    "# Példa bináris fájlok és az 's' paraméter\n",
    "binaries = [\n",
    "    ([1, 2, 3, 4, 5, 6, 7, 8, 9, 10] + [0]*4, 6),  # 4 bájt hozzáadva\n",
    "    ([1, 2, 3, 4, 5, 6, 7, 8, 9, 10] + [0]*5, 6)   # 5 bájt hozzáadva\n",
    "]\n",
    "\n",
    "# A determine_modifiable_positions függvény tesztelése\n",
    "for binary, s in binaries:\n",
    "    modifiable_positions = determine_modifiable_positions(np.array(binary), s)\n",
    "    print(f\"Binary length: {len(binary)}, 's' value: {s}, modifiable positions: {modifiable_positions}\")\n"
   ]
  },
  {
   "cell_type": "code",
   "execution_count": null,
   "metadata": {},
   "outputs": [],
   "source": []
  },
  {
   "cell_type": "code",
   "execution_count": null,
   "metadata": {},
   "outputs": [],
   "source": []
  }
 ],
 "metadata": {
  "kernelspec": {
   "display_name": "torch_env",
   "language": "python",
   "name": "python3"
  },
  "language_info": {
   "codemirror_mode": {
    "name": "ipython",
    "version": 3
   },
   "file_extension": ".py",
   "mimetype": "text/x-python",
   "name": "python",
   "nbconvert_exporter": "python",
   "pygments_lexer": "ipython3",
   "version": "3.8.18"
  }
 },
 "nbformat": 4,
 "nbformat_minor": 2
}
